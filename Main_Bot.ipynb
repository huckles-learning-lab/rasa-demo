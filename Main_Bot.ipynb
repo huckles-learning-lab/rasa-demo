{
  "nbformat": 4,
  "nbformat_minor": 0,
  "metadata": {
    "colab": {
      "provenance": [],
      "authorship_tag": "ABX9TyP+CjHt//t7WKYD2G9V9ci0",
      "include_colab_link": true
    },
    "kernelspec": {
      "name": "python3",
      "display_name": "Python 3"
    },
    "language_info": {
      "name": "python"
    }
  },
  "cells": [
    {
      "cell_type": "markdown",
      "metadata": {
        "id": "view-in-github",
        "colab_type": "text"
      },
      "source": [
        "<a href=\"https://colab.research.google.com/github/huckles-learning-lab/rasa-demo/blob/main/Main_Bot.ipynb\" target=\"_parent\"><img src=\"https://colab.research.google.com/assets/colab-badge.svg\" alt=\"Open In Colab\"/></a>"
      ]
    },
    {
      "cell_type": "markdown",
      "source": [
        "\n",
        "---\n",
        "\n",
        "\n",
        "\n",
        "---\n",
        "\n",
        "\n",
        "# #Main-Bot\n"
      ],
      "metadata": {
        "id": "526UAGMCiehD"
      }
    },
    {
      "cell_type": "markdown",
      "source": [
        "\n",
        "\n",
        "---\n",
        "\n",
        "\n",
        "huckles-udemy@proton.me\n",
        "#####Wie kann mit Rasa, haystack, elasticsearch  und leaf einen chatbot erstellt werden, der als Main bot mehrere Slave-bots steuert?\n",
        "\n",
        "\n",
        "---\n",
        "\n",
        "\n",
        "##Um einen Chatbot mit Rasa, Haystack, Elasticsearch und Leaf zu erstellen, der als Main-Bot mehrere Slave-Bots steuert, müssen Sie die folgenden Schritte ausführen:\n",
        "\n",
        "\n",
        "---\n",
        "\n",
        "\n",
        "1. Erstellen Sie zuerst Ihre Slave-Bots mit Rasa. Jeder Slave-Bot sollte einen eigenen Trainingsdatensatz, NLU-Modell und Action-Server haben. Jeder Slave-Bot sollte in der Lage sein, eine bestimmte Art von Anfragen zu bearbeiten.\n",
        "\n",
        "2. Erstellen Sie einen Hauptbot mit Rasa, der als Vermittler zwischen den Slave-Bots und dem Benutzer dient. Der Hauptbot sollte in der Lage sein, die Anfrage des Benutzers zu verstehen und an den entsprechenden Slave-Bot weiterzuleiten, der die Anfrage des Benutzers am besten beantworten kann.\n",
        "\n",
        "3. Integrieren Sie Haystack in Ihren Hauptbot, um eine schnelle und effiziente Suche in den Daten Ihrer Slave-Bots zu ermöglichen. Haystack kann verwendet werden, um eine Vielzahl von Suchmethoden wie Volltextsuche, semantische Suche und Filterung zu implementieren.\n",
        "\n",
        "4. Integrieren Sie Elasticsearch in Ihre Haystack-Integration, um eine skalierbare und leistungsstarke Such-Engine zu erhalten. Elasticsearch ist eine der beliebtesten Open-Source-Such-Engines und bietet Funktionen wie Textanalyse, Aggregationen, Geospatial-Search und vieles mehr.\n",
        "\n",
        "5. Verwenden Sie Leaf, um eine benutzerfreundliche Oberfläche für Ihren Chatbot zu erstellen. Leaf bietet eine Vielzahl von Widgets und Vorlagen, mit denen Sie schnell eine schöne Benutzeroberfläche für Ihren Chatbot erstellen können.\n",
        "\n",
        "6. Schließlich müssen Sie Ihre Slave-Bots und Hauptbot in Leaf integrieren, um einen nahtlosen Chatbot-Erlebnis zu schaffen. Der Hauptbot kann eine Vielzahl von Anfragen an verschiedene Slave-Bots weiterleiten, um die beste Antwort auf die Anfrage des Benutzers zu finden.\n",
        "\n",
        "\n",
        "---\n",
        "\n",
        "\n",
        "\n",
        "---\n",
        "\n"
      ],
      "metadata": {
        "id": "EGRfvBh9LvhV"
      }
    },
    {
      "cell_type": "markdown",
      "source": [
        "---\n",
        "\n",
        "\n",
        "# #Erstellen des Hauptbot\n",
        "\n",
        "\n",
        "---\n",
        "\n",
        "Siehe rhel-chatbot.ipynb\n",
        "\n",
        "---\n",
        "\n",
        "\n",
        "#Durch die Kombination von Rasa, Haystack, Elasticsearch und Leaf können Sie einen leistungsstarken Chatbot erstellen, der mehrere Slave-Bots steuert und in der Lage ist, eine Vielzahl von Anfragen zu bearbeiten.\n"
      ],
      "metadata": {
        "id": "M7PuvR8FiWk9"
      }
    },
    {
      "cell_type": "markdown",
      "source": [
        "\n",
        "\n",
        "\n",
        "---\n",
        "\n",
        "\n",
        "###Um einen Chatbot zu erstellen, der als Main-Bot neue Bots erstellen kann, müssen Sie die folgenden Schritte ausführen:\n",
        "\n",
        "\n",
        "---\n",
        "\n",
        "\n",
        "1. Erstellen Sie zunächst eine Datenbank, in der Sie Informationen über Ihre verschiedenen Bots speichern können, einschließlich ihres Namens, Trainingsdatensatzes, NLU-Modells und Action-Server.\n",
        "\n",
        "2. Implementieren Sie eine Funktion in Ihrem Main-Bot, die es dem Benutzer ermöglicht, einen neuen Bot zu erstellen. Diese Funktion sollte den Benutzer nach dem Namen des neuen Bots, dem Trainingsdatensatz, dem NLU-Modell und dem Action-Server fragen.\n",
        "\n",
        "3. Sobald der Benutzer alle erforderlichen Informationen eingegeben hat, sollten Sie mit Rasa eine neue Instanz des Slave-Bots erstellen. Dazu können Sie die Rasa API verwenden, um das NLU-Modell, den Trainingsdatensatz und den Action-Server des neuen Bots zu konfigurieren.\n",
        "\n",
        "4. Speichern Sie die Informationen über den neuen Bot in Ihrer Datenbank, damit Ihr Main-Bot später darauf zugreifen kann.\n",
        "\n",
        "5. Integrieren Sie Haystack und Elasticsearch in Ihren Main-Bot, um die Suche in Ihren verschiedenen Bots zu erleichtern. Wenn der Benutzer eine Anfrage an den Main-Bot sendet, sollte dieser Haystack verwenden, um die am besten geeigneten Bots zu identifizieren, die die Anfrage des Benutzers beantworten können.\n",
        "\n",
        "6. Verwenden Sie Leaf, um eine benutzerfreundliche Oberfläche für Ihren Chatbot zu erstellen. Leaf bietet eine Vielzahl von Widgets und Vorlagen, mit denen Sie schnell eine schöne Benutzeroberfläche für Ihren Chatbot erstellen können.\n",
        "\n",
        "7. Schließlich müssen Sie sicherstellen, dass Ihr Main-Bot in der Lage ist, Anfragen an die verschiedenen Slave-Bots weiterzuleiten, je nachdem, welcher Bot die beste Antwort auf die Anfrage des Benutzers liefern kann.\n",
        "\n",
        "\n",
        "\n",
        "\n",
        "---\n",
        "\n",
        "\n",
        "\n"
      ],
      "metadata": {
        "id": "SMPRdzw7LyFn"
      }
    },
    {
      "cell_type": "markdown",
      "source": [
        "\n",
        "\n",
        "---\n",
        "\n",
        "\n",
        "\n",
        "---\n",
        "\n",
        "\n",
        "# #Erstellen einer Datenbank\n",
        "---\n",
        "\n",
        "\n",
        "#Hier ist eine Schritt-für-Schritt-Anleitung zur Erstellung einer Datenbank für Rasa, Haystack, Elasticsearch und Leaf:\n",
        "\n",
        "\n",
        "---\n",
        "\n",
        "\n",
        "\n",
        "---\n",
        "\n"
      ],
      "metadata": {
        "id": "hNuI3xJShgSS"
      }
    },
    {
      "cell_type": "markdown",
      "source": [
        "###Installieren Sie eine relationale Datenbank wie MySQL, PostgreSQL oder SQLite auf Ihrem System. In diesem Beispiel verwenden wir SQLite.\n",
        "\n",
        "Erstellen Sie eine neue Datenbank in SQLite mit dem Befehl:"
      ],
      "metadata": {
        "id": "fktfy3NGIl3I"
      }
    },
    {
      "cell_type": "code",
      "source": [
        "!mkdir chatbot-Datenbank\n",
        "!cd chatbot-Datenbank"
      ],
      "metadata": {
        "id": "e82-GD1MrO_P"
      },
      "execution_count": null,
      "outputs": []
    },
    {
      "cell_type": "code",
      "source": [
        "!pip install ipython-sql"
      ],
      "metadata": {
        "id": "D5xKgMAkeq8P"
      },
      "execution_count": null,
      "outputs": []
    },
    {
      "cell_type": "markdown",
      "source": [
        "####Dadurch wird eine neue SQLite-Datenbank mit dem Namen chatbot.db erstellt."
      ],
      "metadata": {
        "id": "ktqW4IPoIvtf"
      }
    },
    {
      "cell_type": "markdown",
      "source": [
        "###Erstellen Sie eine Tabelle in der Datenbank, um Informationen über die verschiedenen Bots zu speichern, einschließlich ihres Namens, Trainingsdatensatzes, NLU-Modells und Action-Server. Verwenden Sie dazu den folgenden Befehl:"
      ],
      "metadata": {
        "id": "RtfdIbBCI0Jw"
      }
    },
    {
      "cell_type": "code",
      "source": [
        "%load_ext sql\n",
        "%sql sqlite:///chatbot.db\n"
      ],
      "metadata": {
        "id": "M7SnGEZTwRFc"
      },
      "execution_count": null,
      "outputs": []
    },
    {
      "cell_type": "code",
      "source": [
        "%%sql\n",
        "CREATE TABLE bots (\n",
        "    id INTEGER PRIMARY KEY,\n",
        "    name TEXT,\n",
        "    training_data TEXT,\n",
        "    nlu_model TEXT,\n",
        "    action_server TEXT\n",
        ");\n",
        "\n",
        "%sql SELECT name FROM sqlite_master WHERE type='table';\n"
      ],
      "metadata": {
        "id": "woOIsLQSIzfU"
      },
      "execution_count": null,
      "outputs": []
    },
    {
      "cell_type": "code",
      "source": [
        "%sql SELECT name FROM sqlite_master WHERE type='table';\n"
      ],
      "metadata": {
        "id": "XVQwy8Fmv1Kb"
      },
      "execution_count": null,
      "outputs": []
    },
    {
      "cell_type": "markdown",
      "source": [
        "Dadurch wird eine Tabelle namens bots mit fünf Spalten erstellt: id, name, training_data, nlu_model und action_server. Die id-Spalte dient als Primärschlüssel für die Tabelle."
      ],
      "metadata": {
        "id": "J7OCjhpiI4xz"
      }
    },
    {
      "cell_type": "markdown",
      "source": [
        "###Fügen Sie einen Eintrag in die bots-Tabelle ein, um Informationen über einen neuen Bot zu speichern. Verwenden Sie dazu den folgenden Befehl:"
      ],
      "metadata": {
        "id": "4hs-ouvJJAK2"
      }
    },
    {
      "cell_type": "code",
      "source": [
        "%%sql\n",
        "\n",
        "INSERT INTO bots (name, training_data, nlu_model, action_server)\n",
        "VALUES ('Bot1', 'data/training_data_bot1.md', 'models/nlu_bot1', 'http://localhost:5055/webhook');\n"
      ],
      "metadata": {
        "id": "i63v2kuYI91p"
      },
      "execution_count": null,
      "outputs": []
    },
    {
      "cell_type": "markdown",
      "source": [
        "Dadurch wird ein neuer Eintrag in der bots-Tabelle erstellt, der Informationen über einen Bot mit dem Namen Bot1 enthält. Der Pfad zum Trainingsdatensatz, NLU-Modell und Action-Server wird ebenfalls gespeichert.\n",
        "Wiederholen Sie Schritt 4, um weitere Bots in der Datenbank zu speichern.\n"
      ],
      "metadata": {
        "id": "PRCXL1QWJEMo"
      }
    },
    {
      "cell_type": "markdown",
      "source": [
        "###Stellen Sie sicher, dass Sie eine Verbindung zur Datenbank herstellen können, indem Sie eine Testabfrage ausführen. Verwenden Sie dazu den folgenden Befehl:"
      ],
      "metadata": {
        "id": "dRm75y0rJMEg"
      }
    },
    {
      "cell_type": "code",
      "source": [
        "%%sql\n",
        "\n",
        "SELECT * FROM bots;\n"
      ],
      "metadata": {
        "id": "i3grzbfMJG-c"
      },
      "execution_count": null,
      "outputs": []
    },
    {
      "cell_type": "markdown",
      "source": [
        "Dadurch werden alle Einträge in der bots-Tabelle angezeigt."
      ],
      "metadata": {
        "id": "vVcQUOlEJVMi"
      }
    },
    {
      "cell_type": "markdown",
      "source": [
        "###Integrieren Sie die Datenbank in Ihre Rasa-, Haystack-, Elasticsearch- und Leaf-Anwendungen, um auf die gespeicherten Informationen zugreifen zu können. Verwenden Sie dazu die entsprechenden Bibliotheken und APIs, um auf die Datenbank zuzugreifen und Abfragen auszuführen.\n"
      ],
      "metadata": {
        "id": "fBgLkctkJlbJ"
      }
    },
    {
      "cell_type": "markdown",
      "source": [
        "##Das ist alles! Jetzt haben Sie eine Datenbank erstellt, um Informationen über Ihre verschiedenen Bots zu speichern, einschließlich ihres Namens, Trainingsdatensatzes, NLU-Modells und Action-Server."
      ],
      "metadata": {
        "id": "nT0yNLVgJcR3"
      }
    },
    {
      "cell_type": "markdown",
      "source": [
        "\n",
        "\n",
        "---\n",
        "\n",
        "\n",
        "\n",
        "---\n",
        "\n",
        "\n",
        "\n",
        "---\n",
        "\n",
        "\n",
        "\n",
        "---\n",
        "\n"
      ],
      "metadata": {
        "id": "30D_wCi_Jp4d"
      }
    },
    {
      "cell_type": "markdown",
      "source": [
        "# #Implementierung einer Funktion in den Main-Bot\n",
        "\n",
        "---\n",
        "\n",
        "\n",
        "#Hier ist eine Schritt-für-Schritt-Anleitung zur Implementierung einer Funktion in Ihrem Main-Bot, die es dem Benutzer ermöglicht, einen neuen Bot zu erstellen:"
      ],
      "metadata": {
        "id": "hmnckodOJr--"
      }
    },
    {
      "cell_type": "markdown",
      "source": [
        "Definieren Sie eine Funktion in Ihrem Main-Bot, die den Benutzer nach dem Namen des neuen Bots, dem Trainingsdatensatz, dem NLU-Modell und dem Action-Server fragt. Verwenden Sie dazu die Funktion input() in Python, um die Eingabe des Benutzers abzufragen."
      ],
      "metadata": {
        "id": "DBY_OaG5JwiA"
      }
    },
    {
      "cell_type": "markdown",
      "source": [
        "Definieren Sie eine Funktion in Ihrem Main-Bot, die den Benutzer nach dem Namen des neuen Bots, dem Trainingsdatensatz, dem NLU-Modell und dem Action-Server fragt. Verwenden Sie dazu die Funktion input() in Python, um die Eingabe des Benutzers abzufragen."
      ],
      "metadata": {
        "id": "jrHqBdEYJ6ep"
      }
    },
    {
      "cell_type": "code",
      "source": [
        "def create_bot():\n",
        "    bot_name = input(\"Geben Sie den Namen des neuen Bots ein: \")\n",
        "    training_data = input(\"Geben Sie den Pfad zum Trainingsdatensatz ein: \")\n",
        "    nlu_model = input(\"Geben Sie den Pfad zum NLU-Modell ein: \")\n",
        "    action_server = input(\"Geben Sie die URL des Action-Servers ein: \")\n"
      ],
      "metadata": {
        "id": "Utk5X5ucJ3Pl"
      },
      "execution_count": null,
      "outputs": []
    },
    {
      "cell_type": "markdown",
      "source": [
        "Verwenden Sie die eingegebenen Informationen, um eine neue Zeile in der Datenbank zu erstellen, die den neuen Bot enthält. Verwenden Sie dazu das Python-Modul sqlite3, um eine Verbindung zur Datenbank herzustellen und eine INSERT-Abfrage auszuführen."
      ],
      "metadata": {
        "id": "19y5MnaGJ-QZ"
      }
    },
    {
      "cell_type": "code",
      "source": [
        "import sqlite3\n",
        "\n",
        "def create_bot():\n",
        "    bot_name = input(\"Geben Sie den Namen des neuen Bots ein: \")\n",
        "    training_data = input(\"Geben Sie den Pfad zum Trainingsdatensatz ein: \")\n",
        "    nlu_model = input(\"Geben Sie den Pfad zum NLU-Modell ein: \")\n",
        "    action_server = input(\"Geben Sie die URL des Action-Servers ein: \")\n",
        "\n",
        "    conn = sqlite3.connect('chatbot.db')\n",
        "    c = conn.cursor()\n",
        "    c.execute(\"INSERT INTO bots (name, training_data, nlu_model, action_server) VALUES (?, ?, ?, ?)\", (bot_name, training_data, nlu_model, action_server))\n",
        "    conn.commit()\n",
        "    conn.close()\n"
      ],
      "metadata": {
        "id": "bmDYzlJWKBT-"
      },
      "execution_count": null,
      "outputs": []
    },
    {
      "cell_type": "markdown",
      "source": [
        "Fügen Sie Fehlerbehandlung hinzu, um sicherzustellen, dass der Benutzer gültige Eingaben gemacht hat und dass der neue Bot erfolgreich in der Datenbank erstellt wurde."
      ],
      "metadata": {
        "id": "B1GxtyKhKDsc"
      }
    },
    {
      "cell_type": "code",
      "source": [
        "import sqlite3\n",
        "\n",
        "def create_bot():\n",
        "    bot_name = input(\"Geben Sie den Namen des neuen Bots ein: \")\n",
        "    training_data = input(\"Geben Sie den Pfad zum Trainingsdatensatz ein: \")\n",
        "    nlu_model = input(\"Geben Sie den Pfad zum NLU-Modell ein: \")\n",
        "    action_server = input(\"Geben Sie die URL des Action-Servers ein: \")\n",
        "\n",
        "    if not bot_name or not training_data or not nlu_model or not action_server:\n",
        "        print(\"Ungültige Eingabe. Bitte geben Sie alle erforderlichen Informationen ein.\")\n",
        "        return\n",
        "\n",
        "    conn = sqlite3.connect('chatbot.db')\n",
        "    c = conn.cursor()\n",
        "    try:\n",
        "        c.execute(\"INSERT INTO bots (name, training_data, nlu_model, action_server) VALUES (?, ?, ?, ?)\", (bot_name, training_data, nlu_model, action_server))\n",
        "        conn.commit()\n",
        "        print(\"Bot erfolgreich erstellt!\")\n",
        "    except sqlite3.Error as e:\n",
        "        print(f\"Fehler beim Erstellen des Bots: {e}\")\n",
        "    finally:\n",
        "        conn.close()\n"
      ],
      "metadata": {
        "id": "gOycAdTrKGjB"
      },
      "execution_count": null,
      "outputs": []
    },
    {
      "cell_type": "markdown",
      "source": [
        "##Das ist alles! Sie haben nun eine Funktion in Ihrem Main-Bot implementiert, mit der Benutzer neue Bots erstellen können, indem sie den Namen des neuen Bots, den Trainingsdatensatz, das NLU-Modell und die URL des Action-Servers eingeben. \n",
        "##Diese Funktion kann nun in Ihrem Chatbot integriert werden, um die Erstellung neuer Bots zu erleichtern und zu automatisieren. Beachten Sie jedoch, dass je nach den spezifischen Anforderungen Ihres Chatbots möglicherweise weitere Schritte erforderlich sind, um sicherzustellen, dass die erstellten Bots ordnungsgemäß trainiert und in Betrieb genommen werden können."
      ],
      "metadata": {
        "id": "qw_2ifF_KIn-"
      }
    },
    {
      "cell_type": "markdown",
      "source": [
        "huckles-udemy@proton.me\n",
        "Erstellen eine schritt für schritt anleitung:\n",
        "Sobald der Benutzer alle erforderlichen Informationen eingegeben hat, sollten Sie mit Rasa eine neue Instanz des Slave-Bots erstellen. Dazu können Sie die Rasa API verwenden, um das NLU-Modell, den Trainingsdatensatz und den Action-Server des neuen Bots zu konfigurieren."
      ],
      "metadata": {
        "id": "cfG_BWwnOho1"
      }
    }
  ]
}